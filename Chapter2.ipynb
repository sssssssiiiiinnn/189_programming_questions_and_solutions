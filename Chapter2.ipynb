{
 "cells": [
  {
   "cell_type": "code",
   "execution_count": 1,
   "metadata": {},
   "outputs": [
    {
     "name": "stdout",
     "output_type": "stream",
     "text": [
      "2\n",
      "3\n",
      "4\n",
      "5\n",
      "1\n",
      "4\n"
     ]
    }
   ],
   "source": [
    "# 単方向連結リスト\n",
    "\n",
    "class Node(object):\n",
    "    \n",
    "    def __init__(self, d):\n",
    "        self.next = None\n",
    "        self.data = d\n",
    "        \n",
    "    def append_to_tail(self, d):\n",
    "        end = Node(d)\n",
    "        node = self\n",
    "        while node.next is not None:\n",
    "            node = node.next\n",
    "        node.next = end\n",
    "        \n",
    "def print_node(head):\n",
    "    node = head\n",
    "    while node.next is not None:\n",
    "        print(node.data)\n",
    "        node = node.next\n",
    "    print(node.data)\n",
    "            \n",
    "def delete_node(head, d):\n",
    "    if head.data == d:\n",
    "        return head.next\n",
    "    node = head \n",
    "    while node.next is not None:\n",
    "        if node.next.data == d:\n",
    "            node.next = node.next.next\n",
    "            break\n",
    "        node = node.next\n",
    "    return head\n",
    "        \n",
    "head = Node(1)\n",
    "head.append_to_tail(2)\n",
    "head.append_to_tail(3)\n",
    "head.append_to_tail(4)\n",
    "head.append_to_tail(5)\n",
    "head.append_to_tail(1)\n",
    "head.append_to_tail(4)\n",
    "head = delete_node(head, 1)\n",
    "print_node(head)"
   ]
  },
  {
   "cell_type": "code",
   "execution_count": 2,
   "metadata": {},
   "outputs": [
    {
     "name": "stdout",
     "output_type": "stream",
     "text": [
      "2\n",
      "3\n",
      "4\n",
      "5\n",
      "1\n"
     ]
    }
   ],
   "source": [
    "# 2-1\n",
    "def delete_duplicate_node(head):\n",
    "    p1 = head\n",
    "    while p1 is not None:\n",
    "        p2 = p1\n",
    "        while p2.next is not None:\n",
    "            if p1.data == p2.next.data:\n",
    "                p2.next = p2.next.next\n",
    "                break\n",
    "            p2 = p2.next\n",
    "        p1 = p1.next\n",
    "    print_node(head)\n",
    "delete_duplicate_node(head)"
   ]
  },
  {
   "cell_type": "code",
   "execution_count": 3,
   "metadata": {},
   "outputs": [
    {
     "name": "stdout",
     "output_type": "stream",
     "text": [
      "2\n",
      "3\n",
      "4\n",
      "5\n",
      "1\n"
     ]
    }
   ],
   "source": [
    "# 2-2\n",
    "def nth_to_last(head, k):\n",
    "    p1 = head\n",
    "    p2 = head\n",
    "    for i in range(k):\n",
    "        if p2.next is None:\n",
    "            return False\n",
    "        p2 = p2.next\n",
    "    \n",
    "    while p2 is not None:\n",
    "        p1 = p1.next\n",
    "        p2 = p2.next\n",
    "    return p1\n",
    "\n",
    "nth_to_last(head, 3)\n",
    "print_node(head)"
   ]
  },
  {
   "cell_type": "code",
   "execution_count": 52,
   "metadata": {},
   "outputs": [
    {
     "name": "stdout",
     "output_type": "stream",
     "text": [
      "1\n",
      "2\n",
      "2\n",
      "2\n",
      "1\n",
      "2\n",
      "1\n",
      "3\n",
      "3\n",
      "3\n",
      "4\n",
      "5\n",
      "4\n",
      "5\n"
     ]
    }
   ],
   "source": [
    "# 2-4\n",
    "def partition(head, d):\n",
    "    \n",
    "    node = head\n",
    "    tail = head\n",
    "    \n",
    "    while node.next is not None:\n",
    "        next_node = node.next\n",
    "        if node.data <= d:\n",
    "            node.next = head\n",
    "            head = node\n",
    "        else:\n",
    "            tail.next = node\n",
    "            tail = node\n",
    "        node = next_node\n",
    "    tail.next = None\n",
    "    return head\n",
    "\n",
    "head = partition(head, 3)\n",
    "print_node(head)"
   ]
  },
  {
   "cell_type": "code",
   "execution_count": 53,
   "metadata": {},
   "outputs": [
    {
     "name": "stdout",
     "output_type": "stream",
     "text": [
      "2\n",
      "1\n",
      "9\n",
      "1\n"
     ]
    }
   ],
   "source": [
    "# 2-5\n",
    "node1 = Node(7)\n",
    "node1.append_to_tail(1)\n",
    "node1.append_to_tail(6)\n",
    "\n",
    "node2 = Node(5)\n",
    "node2.append_to_tail(9)\n",
    "node2.append_to_tail(2)\n",
    "node2.append_to_tail(1)\n",
    "\n",
    "def add_lists(node1, node2, carry):\n",
    "    value = 0\n",
    "    \n",
    "    if node1 is None and node2 is None and carry == 0:\n",
    "        return None\n",
    "    \n",
    "    if node1 is not None:\n",
    "        value += node1.data\n",
    "    \n",
    "    if node2 is not None:\n",
    "        value += node2.data\n",
    "        \n",
    "    value += carry\n",
    "    \n",
    "    result = Node(value % 10) # 切り上げを無視した値\n",
    "    more = add_lists(None if node1 is None else node1.next,\n",
    "                     None if node2 is None else node2.next,\n",
    "                     carry=value // 10)\n",
    "    result.next = more\n",
    "    return result\n",
    "    \n",
    "print_node(add_lists(node1, node2, 0))\n"
   ]
  },
  {
   "cell_type": "code",
   "execution_count": 60,
   "metadata": {},
   "outputs": [
    {
     "data": {
      "text/plain": [
       "True"
      ]
     },
     "execution_count": 60,
     "metadata": {},
     "output_type": "execute_result"
    }
   ],
   "source": [
    "# 2-6\n",
    "def is_palindrome(node):\n",
    "    reversed_node = node_reverse(node)\n",
    "    return is_equal(node, reversed_node)\n",
    "\n",
    "def node_reverse(node):\n",
    "    head = None\n",
    "    while(node is not None):\n",
    "        n = Node(node.data)\n",
    "        n.next = head\n",
    "        head = n\n",
    "        node = node.next\n",
    "    return head\n",
    "\n",
    "def is_equal(node, reversed_node):\n",
    "    while node is not None and reversed_node is not None:\n",
    "        if node.data != reversed_node.data:\n",
    "            return False\n",
    "        node = node.next\n",
    "        reversed_node = reversed_node.next\n",
    "    return True\n",
    "\n",
    "node = Node('P')\n",
    "node.append_to_tail('A')\n",
    "node.append_to_tail('I')\n",
    "node.append_to_tail('N')\n",
    "node.append_to_tail('I')\n",
    "node.append_to_tail('A')\n",
    "node.append_to_tail('P')\n",
    "is_palindrome(node)"
   ]
  },
  {
   "cell_type": "code",
   "execution_count": 92,
   "metadata": {},
   "outputs": [
    {
     "data": {
      "text/plain": [
       "True"
      ]
     },
     "execution_count": 92,
     "metadata": {},
     "output_type": "execute_result"
    }
   ],
   "source": [
    "# 2-7\n",
    "\n",
    "def get_nth_node(head, d):\n",
    "    \n",
    "    node = head\n",
    "    \n",
    "    while node.next is not None and d > 0:\n",
    "        node = node.next\n",
    "        d -= 1\n",
    "        \n",
    "    return node\n",
    "\n",
    "class Result(object):\n",
    "    \n",
    "    def __init__(self, head):\n",
    "        node = head\n",
    "        self.length = 1\n",
    "        while node.next is not None:\n",
    "            self.length += 1\n",
    "            node = node.next\n",
    "        self.last_node = node\n",
    "\n",
    "        \n",
    "def find_intersection(node1, node2):    \n",
    "    \n",
    "    result1 = Result(node1)\n",
    "    result2 = Result(node2)\n",
    "    \n",
    "    if result1.last_node.data != result2.last_node.data:\n",
    "        return False\n",
    "    \n",
    "    longer = node1 if result1.length > result2.length else node2\n",
    "    shorter = node2 if result1.length > result2.length else node1\n",
    "    \n",
    "    longer = get_nth_node(longer, abs(result1.length-result2.length))\n",
    "    \n",
    "    while longer is not None and shorter is not None:\n",
    "        if longer == shorter:\n",
    "            return True\n",
    "        longer = longer.next\n",
    "        shorter = shorter.next\n",
    "    return False\n",
    "\n",
    "\n",
    "node1 = Node(1)\n",
    "node1.append_to_tail(2)\n",
    "node1.append_to_tail(3)\n",
    "node1.append_to_tail(4)\n",
    "node1.append_to_tail(5)\n",
    "node1.append_to_tail(6)\n",
    "node1.append_to_tail(7)\n",
    "\n",
    "node2 = Node(0)\n",
    "node2.append_to_tail(9)\n",
    "node2.append_to_tail(8)\n",
    "get_nth_node(node2, 3).next = get_nth_node(node1, 6)\n",
    "\n",
    "find_intersection(node1, node2)"
   ]
  },
  {
   "cell_type": "code",
   "execution_count": 104,
   "metadata": {},
   "outputs": [
    {
     "name": "stdout",
     "output_type": "stream",
     "text": [
      "fast 3\n",
      "slow 2\n",
      "fast 5\n",
      "slow 3\n",
      "fast 7\n",
      "slow 4\n",
      "fast 6\n",
      "slow 5\n",
      "fast 5\n",
      "slow 6\n",
      "fast 7\n",
      "slow 7\n",
      "fast and slow meeting at 7\n"
     ]
    },
    {
     "data": {
      "text/plain": [
       "5"
      ]
     },
     "execution_count": 104,
     "metadata": {},
     "output_type": "execute_result"
    }
   ],
   "source": [
    "def find_beginning(head):\n",
    "    fast = head\n",
    "    slow = head\n",
    "    \n",
    "    while fast.next is not None and fast is not None:\n",
    "        fast = fast.next.next\n",
    "        slow = slow.next\n",
    "        print(f'fast {fast.data}')\n",
    "        print(f'slow {slow.data}')\n",
    "        if fast == slow:\n",
    "            break\n",
    "        \n",
    "    if fast is None or fast.next is None:\n",
    "        return None\n",
    "    \n",
    "    slow = head\n",
    "    \n",
    "    print(f'fast and slow meeting at {fast.data}')\n",
    "    \n",
    "    while fast != slow:\n",
    "        fast = fast.next\n",
    "        slow = slow.next\n",
    "    \n",
    "    return fast\n",
    "\n",
    "node1 = Node(1)\n",
    "node1.append_to_tail(2)\n",
    "node1.append_to_tail(3)\n",
    "node1.append_to_tail(4)\n",
    "node1.append_to_tail(5)\n",
    "node1.append_to_tail(6)\n",
    "node1.append_to_tail(7)\n",
    "get_nth_node(node1, 8).next = get_nth_node(node1, 4)\n",
    "find_beginning(node1).data"
   ]
  },
  {
   "cell_type": "code",
   "execution_count": null,
   "metadata": {},
   "outputs": [],
   "source": []
  }
 ],
 "metadata": {
  "kernelspec": {
   "display_name": "Python 3",
   "language": "python",
   "name": "python3"
  },
  "language_info": {
   "codemirror_mode": {
    "name": "ipython",
    "version": 3
   },
   "file_extension": ".py",
   "mimetype": "text/x-python",
   "name": "python",
   "nbconvert_exporter": "python",
   "pygments_lexer": "ipython3",
   "version": "3.7.7"
  }
 },
 "nbformat": 4,
 "nbformat_minor": 4
}
