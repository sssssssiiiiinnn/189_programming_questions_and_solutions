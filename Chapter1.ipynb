{
 "cells": [
  {
   "cell_type": "code",
   "execution_count": 11,
   "metadata": {},
   "outputs": [
    {
     "name": "stdout",
     "output_type": "stream",
     "text": [
      "False\n"
     ]
    }
   ],
   "source": [
    "# 1-1\n",
    "import numpy as np\n",
    "\n",
    "\n",
    "def is_unique_chars(s):\n",
    "    if len(s) > 128:\n",
    "        return False\n",
    "    \n",
    "    char_set= np.zeros((128))\n",
    "    \n",
    "    for i in range(len(s)):\n",
    "        val = ord(s[i])\n",
    "        if char_set[val]:\n",
    "            return False\n",
    "        char_set[val] = 1\n",
    "    return True\n",
    "\n",
    "s = \"sentence\"\n",
    "print(is_unique_chars(s))"
   ]
  },
  {
   "cell_type": "code",
   "execution_count": 12,
   "metadata": {},
   "outputs": [
    {
     "name": "stdout",
     "output_type": "stream",
     "text": [
      "True\n"
     ]
    }
   ],
   "source": [
    "# 1-2 解法1\n",
    "def is_same_string(s1, s2):\n",
    "    s1 = sorted(s1)\n",
    "    s2 = sorted(s2)\n",
    "    return s1 == s2\n",
    "\n",
    "s1 = \"no\"\n",
    "s2 = \"on\"\n",
    "print(is_same_string(input_str_1, input_str_2))"
   ]
  },
  {
   "cell_type": "code",
   "execution_count": 21,
   "metadata": {},
   "outputs": [
    {
     "name": "stdout",
     "output_type": "stream",
     "text": [
      "True\n"
     ]
    }
   ],
   "source": [
    "# 1-2 解法2\n",
    "def is_same_string(s1,s2):\n",
    "    if len(s1) != len(s2):\n",
    "        return False\n",
    "\n",
    "    letters = {}\n",
    "    \n",
    "    for i in s1:\n",
    "        if i in letters:\n",
    "            letters[i] += 1\n",
    "        else:\n",
    "            letters[i] = 1\n",
    "            \n",
    "    for i in s2:\n",
    "        if i in letters and letters[i] > 0:\n",
    "            letters[i] -= 1\n",
    "        else:\n",
    "            return False\n",
    "    return True\n",
    "\n",
    "\n",
    "s1 = \"noY\"\n",
    "s2 = \"nYo\"\n",
    "print(is_same_string(s1, s2))"
   ]
  },
  {
   "cell_type": "code",
   "execution_count": 43,
   "metadata": {},
   "outputs": [],
   "source": [
    "# 1-3\n",
    "def replace_spaces(s, true_length):\n",
    "    space_count = 0\n",
    "    \n",
    "    for i in s:\n",
    "        if i == ' ':\n",
    "            space_count += 1\n",
    "    \n",
    "    index = true_length + space_count * 2\n",
    "    \n",
    "    target = [0] * index\n",
    "    \n",
    "    for i in range(true_length-1, -1, -1):\n",
    "        if s[i] != ' ':\n",
    "            target[index-1] = s[i]\n",
    "            index -= 1\n",
    "        else: \n",
    "            target[index-1] = '0'\n",
    "            target[index-2] = '2'\n",
    "            target[index-3] = '%'\n",
    "            index -= 3\n",
    "    assert ''.join(target) == s.replace(' ', '%20')\n",
    "        \n",
    "replace_spaces('Mr charlie spaceman', 19)"
   ]
  },
  {
   "cell_type": "code",
   "execution_count": 61,
   "metadata": {},
   "outputs": [
    {
     "name": "stdout",
     "output_type": "stream",
     "text": [
      "table : [1, 0, 0, 0, 0, 0, 0, 0, 0, 0, 0, 2, 0, 0, 0, 0, 0, 3, 0, 0, 0, 0, 3, 0, 0, 4]\n",
      "False\n"
     ]
    }
   ],
   "source": [
    "# 1-4\n",
    "def is_permutation_of_palindrome(s):\n",
    "    table = build_char_frequency_table(s)\n",
    "    return check_max_one_odd(table)\n",
    "    \n",
    "def get_char_number(s):\n",
    "    return ord('z')-ord(s)\n",
    "\n",
    "def build_char_frequency_table(s):\n",
    "    table = [0] * (ord('z')-ord('a')+1)\n",
    "    for i in s:\n",
    "        char_number = get_char_number(i)\n",
    "        table[char_number] += 1\n",
    "    return table\n",
    "        \n",
    "def check_max_one_odd(table):\n",
    "    odd_count = 0\n",
    "    print(f'table : {table}')\n",
    "    for i in table:\n",
    "        if i % 2 != 0:\n",
    "            odd_count += 1            \n",
    "    if odd_count > 1:\n",
    "        return False\n",
    "    return True\n",
    "    \n",
    "print(is_permutation_of_palindrome('oodddaaaaiiiz'))"
   ]
  },
  {
   "cell_type": "code",
   "execution_count": 63,
   "metadata": {},
   "outputs": [
    {
     "name": "stdout",
     "output_type": "stream",
     "text": [
      "True\n"
     ]
    }
   ],
   "source": [
    "# 1-5\n",
    "def one_edit_away(s1, s2):\n",
    "    if len(s1) == len(s2):\n",
    "        return one_edit_replace(s1, s2)\n",
    "    elif len(s1) > len(s2):\n",
    "        return one_edit_insert(s2, s1)\n",
    "    else:\n",
    "        return one_edit_insert(s1, s2)\n",
    "    \n",
    "def one_edit_replace(s1, s2):\n",
    "    found_difference = False\n",
    "    for i in range(len(s1)):\n",
    "        if s1[i] != s2[i]:\n",
    "            if found_difference:\n",
    "                return False\n",
    "            found_difference = True\n",
    "    return True\n",
    "\n",
    "def one_edit_insert(s1, s2):\n",
    "    index1 = 0\n",
    "    index2 = 0\n",
    "    \n",
    "    while index2 < len(s2) and index1 < len(s1):\n",
    "        if s1[index1] != s2[index2]:\n",
    "            if index1 != index2:\n",
    "                return False\n",
    "            index2 = index2 + 1\n",
    "        else:\n",
    "            index1 = index1 + 1\n",
    "            index2 = index2 + 1\n",
    "    return True\n",
    "\n",
    "s1 = 'apple'\n",
    "s2 = 'aple'\n",
    "print(one_edit_away(s1, s2))"
   ]
  },
  {
   "cell_type": "code",
   "execution_count": 65,
   "metadata": {},
   "outputs": [
    {
     "name": "stdout",
     "output_type": "stream",
     "text": [
      "a2b1c5a3\n"
     ]
    }
   ],
   "source": [
    "# 1-6 解法1\n",
    "\n",
    "def compress_bad(s):\n",
    "    compressed = \"\"\n",
    "    count_consecutive = 0\n",
    "    \n",
    "    for i in range(len(s)):\n",
    "        count_consecutive += 1\n",
    "        if i + 1 >= len(s) or s[i] != s [i+1]:\n",
    "            compressed = compressed + s[i] + str(count_consecutive)\n",
    "            count_consecutive = 0\n",
    "            \n",
    "    return compressed\n",
    "\n",
    "s = \"aabcccccaaa\"\n",
    "print(compress_bad(s))"
   ]
  },
  {
   "cell_type": "code",
   "execution_count": 79,
   "metadata": {},
   "outputs": [
    {
     "name": "stdout",
     "output_type": "stream",
     "text": [
      "a2b1c5a3\n"
     ]
    }
   ],
   "source": [
    "# 1-6 解法2\n",
    "def compress(s):\n",
    "    compressed = []\n",
    "    count_consective = 0\n",
    "    for i in range(len(s)):\n",
    "        count_consective += 1\n",
    "        if i + 1 >= len(s) or s[i] != s [i+1]:\n",
    "            compressed.append(s[i])\n",
    "            compressed.append(str(count_consective))\n",
    "            count_consective = 0\n",
    "    return ''.join(compressed)\n",
    "\n",
    "s = \"aabcccccaaa\"\n",
    "print(compress(s))"
   ]
  },
  {
   "cell_type": "code",
   "execution_count": 84,
   "metadata": {},
   "outputs": [
    {
     "name": "stdout",
     "output_type": "stream",
     "text": [
      "[[1, 2, 3, 4], [5, 6, 7, 8], [9, 10, 11, 12], [13, 14, 15, 16]]\n",
      "[[13, 9, 5, 1], [14, 10, 6, 2], [15, 11, 7, 3], [16, 12, 8, 4]]\n"
     ]
    }
   ],
   "source": [
    "# 1-7\n",
    "def rotate(matrix):\n",
    "    \n",
    "    # 正方形じゃない場合Falseを返す\n",
    "    if len(matrix) == 0 or len(matrix) != len(matrix[0]):\n",
    "        return False\n",
    "    \n",
    "    # 一辺の長さ\n",
    "    n = len(matrix)\n",
    "    \n",
    "    # 一辺の長さの半分まで\n",
    "    for layer in range(n//2):\n",
    "        first = layer\n",
    "        last = n - 1 - layer\n",
    "        for i in range(first, last):\n",
    "            offset = i - first\n",
    "            top = matrix[first][i]\n",
    "            \n",
    "            matrix[first][i] = matrix[last-offset][first]\n",
    "            \n",
    "            matrix[last-offset][first] = matrix[last][last-offset]\n",
    "            \n",
    "            matrix[last][last-offset] = matrix[i][last]\n",
    "            \n",
    "            matrix[i][last] = top\n",
    "            \n",
    "    return matrix\n",
    "\n",
    "input_matrix_1 = [[1,2,3,4],[5,6,7,8],[9,10,11,12],[13,14,15,16]]\n",
    "\n",
    "print(input_matrix_1)\n",
    "\n",
    "print(rotate(input_matrix_1))"
   ]
  },
  {
   "cell_type": "code",
   "execution_count": 113,
   "metadata": {},
   "outputs": [
    {
     "name": "stdout",
     "output_type": "stream",
     "text": [
      "====================\n",
      "[1, 2, 3, 4]\n",
      "[5, 6, 0, 8]\n",
      "[0, 10, 11, 12]\n",
      "[13, 14, 15, 16]\n",
      "====================\n",
      "[0, 2, 0, 4]\n",
      "[0, 0, 0, 0]\n",
      "[0, 0, 0, 0]\n",
      "[0, 14, 0, 16]\n"
     ]
    }
   ],
   "source": [
    "# 1-8\n",
    "\n",
    "def set_zeros(matrix):\n",
    "    row_has_zero = False\n",
    "    col_has_zero = False\n",
    "    \n",
    "    # 最初の行にゼロがあるかをチェック\n",
    "    for i in range(len(matrix[0])):\n",
    "        if matrix[0][i] == 0:\n",
    "            row_has_zero = True\n",
    "            break            \n",
    "    \n",
    "    # 最初の列にゼロがあるかをチェック\n",
    "    for i in range(1, len(matrix)):\n",
    "        if matrix[i][0] == 0:\n",
    "            col_has_zero = True\n",
    "            break           \n",
    "\n",
    "    # 残りの行列にゼロがあるかをチェック\n",
    "    # ゼロがある行と列の先頭をゼロにする\n",
    "    for i in range(1, len(matrix)):\n",
    "        for j in range(1, len(matrix[i])):\n",
    "            if matrix[i][j] == 0:\n",
    "                matrix[0][j] = 0\n",
    "                matrix[i][0] = 0            \n",
    "                \n",
    "    # 先頭がゼロになっている行の値をすべてゼロにする\n",
    "    for i in range(1, len(matrix)):\n",
    "        if matrix[i][0] == 0:\n",
    "            for j in range(len(matrix[0])):\n",
    "                matrix[i][j] = 0            \n",
    "                \n",
    "    # 先頭がゼロになっている列の値をすべてゼロにする\n",
    "    for i in range(1, len(matrix[0])):\n",
    "        if matrix[0][i] == 0:\n",
    "            for j in range(len(matrix)):\n",
    "                matrix[j][i] = 0            \n",
    "                \n",
    "    # 先頭行の処理\n",
    "    if row_has_zero:\n",
    "        for i in range(len(matrix[0])):\n",
    "            matrix[0][i] = 0\n",
    "            \n",
    "    # 先頭列の処理\n",
    "    if col_has_zero:\n",
    "        for i in range(len(matrix)):\n",
    "            matrix[i][0] = 0\n",
    "            \n",
    "    print_matrix(matrix)\n",
    "\n",
    "def print_matrix(matrix):\n",
    "    print('='*20)\n",
    "    for row in matrix:\n",
    "        print(row)\n",
    "\n",
    "matrix = [[1,2,3,4],[5,6,0,8],[0,10,11,12],[13,14,15,16]]\n",
    "print_matrix(matrix)\n",
    "set_zeros(matrix)"
   ]
  },
  {
   "cell_type": "code",
   "execution_count": 122,
   "metadata": {},
   "outputs": [
    {
     "name": "stdout",
     "output_type": "stream",
     "text": [
      "True\n"
     ]
    }
   ],
   "source": [
    "# 1-9\n",
    "def is_rotation(s1, s2):\n",
    "    if len(s1) != len(s2):\n",
    "        return False\n",
    "    return s1 in s2 + s2\n",
    "\n",
    "print(is_rotation('waterbottle', 'tlewaterbot'))"
   ]
  }
 ],
 "metadata": {
  "kernelspec": {
   "display_name": "Python 3",
   "language": "python",
   "name": "python3"
  },
  "language_info": {
   "codemirror_mode": {
    "name": "ipython",
    "version": 3
   },
   "file_extension": ".py",
   "mimetype": "text/x-python",
   "name": "python",
   "nbconvert_exporter": "python",
   "pygments_lexer": "ipython3",
   "version": "3.7.7"
  }
 },
 "nbformat": 4,
 "nbformat_minor": 4
}
